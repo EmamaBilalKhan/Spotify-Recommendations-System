{
  "nbformat": 4,
  "nbformat_minor": 0,
  "metadata": {
    "colab": {
      "provenance": []
    },
    "kernelspec": {
      "name": "python3",
      "display_name": "Python 3"
    },
    "language_info": {
      "name": "python"
    }
  },
  "cells": [
    {
      "cell_type": "code",
      "execution_count": 4,
      "metadata": {
        "id": "OIwPPoDnH51N"
      },
      "outputs": [],
      "source": [
        "from google.colab import userdata\n",
        "Spotify_Client_Id = userdata.get('Sppotify_Client_Id')\n",
        "Spotify_Client_Secret = userdata.get('Spotify_Client_Secret')"
      ]
    },
    {
      "cell_type": "markdown",
      "source": [
        "Accessing spotify through credentials(encoded) to get access token:"
      ],
      "metadata": {
        "id": "U0ldtcK1YTvO"
      }
    },
    {
      "cell_type": "code",
      "source": [
        "import requests\n",
        "import base64\n",
        "\n",
        "CLIENT_ID = Spotify_Client_Id;\n",
        "CLIENT_SECRET = Spotify_Client_Secret;\n",
        "\n",
        "client_credentials = f\"{CLIENT_ID}:{CLIENT_SECRET}\"\n",
        "client_credentials_base64 = base64.b64encode(client_credentials.encode())\n",
        "\n",
        "token_url = 'https://accounts.spotify.com/api/token'\n",
        "headers = {\n",
        "    'Authorization': f'Basic {client_credentials_base64.decode()}'\n",
        "}\n",
        "data = {\n",
        "    'grant_type': 'client_credentials'\n",
        "}\n",
        "response = requests.post(token_url, data=data, headers=headers)\n",
        "\n",
        "if response.status_code == 200:\n",
        "    access_token = response.json()['access_token']\n",
        "    print(\"Access token obtained successfully\")\n",
        "else:\n",
        "    print(\"Error obtaining access token\")\n",
        "    exit()"
      ],
      "metadata": {
        "colab": {
          "base_uri": "https://localhost:8080/"
        },
        "id": "cFUosFlBI7Rf",
        "outputId": "b489b534-cbe0-4e35-af3c-ab284278d66e"
      },
      "execution_count": 6,
      "outputs": [
        {
          "output_type": "stream",
          "name": "stdout",
          "text": [
            "Access token obtained successfully\n"
          ]
        }
      ]
    },
    {
      "cell_type": "markdown",
      "source": [
        "Now that we have the access token, we will use spotify's python library for its web API:"
      ],
      "metadata": {
        "id": "nQC2FtN5YtgX"
      }
    },
    {
      "cell_type": "code",
      "source": [
        "!pip install spotipy"
      ],
      "metadata": {
        "colab": {
          "base_uri": "https://localhost:8080/"
        },
        "id": "rMhE7f7SJFbg",
        "outputId": "953bfe69-52df-4d3c-e770-b6fcf787e712"
      },
      "execution_count": 7,
      "outputs": [
        {
          "output_type": "stream",
          "name": "stdout",
          "text": [
            "Collecting spotipy\n",
            "  Downloading spotipy-2.23.0-py3-none-any.whl (29 kB)\n",
            "Collecting redis>=3.5.3 (from spotipy)\n",
            "  Downloading redis-5.0.4-py3-none-any.whl (251 kB)\n",
            "\u001b[2K     \u001b[90m━━━━━━━━━━━━━━━━━━━━━━━━━━━━━━━━━━━━━━━━\u001b[0m \u001b[32m252.0/252.0 kB\u001b[0m \u001b[31m3.9 MB/s\u001b[0m eta \u001b[36m0:00:00\u001b[0m\n",
            "\u001b[?25hRequirement already satisfied: requests>=2.25.0 in /usr/local/lib/python3.10/dist-packages (from spotipy) (2.31.0)\n",
            "Requirement already satisfied: six>=1.15.0 in /usr/local/lib/python3.10/dist-packages (from spotipy) (1.16.0)\n",
            "Requirement already satisfied: urllib3>=1.26.0 in /usr/local/lib/python3.10/dist-packages (from spotipy) (2.0.7)\n",
            "Requirement already satisfied: async-timeout>=4.0.3 in /usr/local/lib/python3.10/dist-packages (from redis>=3.5.3->spotipy) (4.0.3)\n",
            "Requirement already satisfied: charset-normalizer<4,>=2 in /usr/local/lib/python3.10/dist-packages (from requests>=2.25.0->spotipy) (3.3.2)\n",
            "Requirement already satisfied: idna<4,>=2.5 in /usr/local/lib/python3.10/dist-packages (from requests>=2.25.0->spotipy) (3.7)\n",
            "Requirement already satisfied: certifi>=2017.4.17 in /usr/local/lib/python3.10/dist-packages (from requests>=2.25.0->spotipy) (2024.2.2)\n",
            "Installing collected packages: redis, spotipy\n",
            "Successfully installed redis-5.0.4 spotipy-2.23.0\n"
          ]
        }
      ]
    },
    {
      "cell_type": "markdown",
      "source": [
        "Function to get playlist data using a public playlist ID:"
      ],
      "metadata": {
        "id": "urmkFcKrZBgy"
      }
    },
    {
      "cell_type": "code",
      "source": [
        "import pandas as pd\n",
        "import spotipy\n",
        "from spotipy.oauth2 import SpotifyOAuth\n",
        "\n",
        "def get_trending_playlist_data(playlist_id, access_token):\n",
        "    sp = spotipy.Spotify(auth=access_token)\n",
        "\n",
        "    playlist_tracks = sp.playlist_tracks(playlist_id, fields='items(track(id, name, artists, album(id, name)))')\n",
        "\n",
        "    music_data = []\n",
        "    for track_info in playlist_tracks['items']:\n",
        "        track = track_info['track']\n",
        "        track_name = track['name']\n",
        "        artists = ', '.join([artist['name'] for artist in track['artists']])\n",
        "        album_name = track['album']['name']\n",
        "        album_id = track['album']['id']\n",
        "        track_id = track['id']\n",
        "\n",
        "\n",
        "        audio_features = sp.audio_features(track_id)[0] if track_id != 'Not available' else None\n",
        "\n",
        "\n",
        "        try:\n",
        "            album_info = sp.album(album_id) if album_id != 'Not available' else None\n",
        "            release_date = album_info['release_date'] if album_info else None\n",
        "        except:\n",
        "            release_date = None\n",
        "\n",
        "        try:\n",
        "            track_info = sp.track(track_id) if track_id != 'Not available' else None\n",
        "            popularity = track_info['popularity'] if track_info else None\n",
        "        except:\n",
        "            popularity = None\n",
        "\n",
        "\n",
        "        track_data = {\n",
        "            'Track Name': track_name,\n",
        "            'Artists': artists,\n",
        "            'Album Name': album_name,\n",
        "            'Album ID': album_id,\n",
        "            'Track ID': track_id,\n",
        "            'Popularity': popularity,\n",
        "            'Release Date': release_date,\n",
        "            'Duration (ms)': audio_features['duration_ms'] if audio_features else None,\n",
        "            'Explicit': track_info.get('explicit', None),\n",
        "            'External URLs': track_info.get('external_urls', {}).get('spotify', None),\n",
        "            'Danceability': audio_features['danceability'] if audio_features else None,\n",
        "            'Energy': audio_features['energy'] if audio_features else None,\n",
        "            'Key': audio_features['key'] if audio_features else None,\n",
        "            'Loudness': audio_features['loudness'] if audio_features else None,\n",
        "            'Mode': audio_features['mode'] if audio_features else None,\n",
        "            'Speechiness': audio_features['speechiness'] if audio_features else None,\n",
        "            'Acousticness': audio_features['acousticness'] if audio_features else None,\n",
        "            'Instrumentalness': audio_features['instrumentalness'] if audio_features else None,\n",
        "            'Liveness': audio_features['liveness'] if audio_features else None,\n",
        "            'Valence': audio_features['valence'] if audio_features else None,\n",
        "            'Tempo': audio_features['tempo'] if audio_features else None,\n",
        "        }\n",
        "\n",
        "        music_data.append(track_data)\n",
        "\n",
        "    df = pd.DataFrame(music_data)\n",
        "\n",
        "    return df"
      ],
      "metadata": {
        "id": "kJaHRD-nKzPQ"
      },
      "execution_count": 10,
      "outputs": []
    },
    {
      "cell_type": "markdown",
      "source": [
        "Here we provide a playlist ID and get playlist data:"
      ],
      "metadata": {
        "id": "q0Q4chJHZKT1"
      }
    },
    {
      "cell_type": "code",
      "source": [
        "playlist_id = '2mdFnQyK9pHIv7klmMxoWH'\n",
        "\n",
        "music_df = get_trending_playlist_data(playlist_id, access_token)\n",
        "\n",
        "print(music_df)"
      ],
      "metadata": {
        "colab": {
          "base_uri": "https://localhost:8080/"
        },
        "id": "RcTOwV46Mpd9",
        "outputId": "7b46d7af-6654-45cc-9f67-a354088b16da"
      },
      "execution_count": 11,
      "outputs": [
        {
          "output_type": "stream",
          "name": "stdout",
          "text": [
            "                          Track Name                       Artists  \\\n",
            "0                       Lucid Dreams                    Juice WRLD   \n",
            "1                         God's Plan                         Drake   \n",
            "2                         Better Now                   Post Malone   \n",
            "3         rockstar (feat. 21 Savage)        Post Malone, 21 Savage   \n",
            "4            Congratulations - Remix    Post Malone, Quavo, Future   \n",
            "..                               ...                           ...   \n",
            "95                            Ridin'  Chamillionaire, Krayzie Bone   \n",
            "96                       Knock Knock                       SoFaygo   \n",
            "97                         On My Way                       Illijah   \n",
            "98      Chosen (feat. Ty Dolla $ign)    Blxst, Tyga, Ty Dolla $ign   \n",
            "99  Bad Things (with Camila Cabello)           mgk, Camila Cabello   \n",
            "\n",
            "                  Album Name                Album ID                Track ID  \\\n",
            "0    Goodbye & Good Riddance  6tkjU4Umpo79wwkgPMV3nZ  285pBltuF7vW8TeWk8hdRR   \n",
            "1                   Scorpion  1ATL5GLyefJaxhQzSPVrLX  6DCZcSspjsKoFjzjrWoCdn   \n",
            "2       beerbongs & bentleys  6trNtQUgC8cgbWcqoMYkOR  7dt6x5M1jzdTEt8oCbisTK   \n",
            "3       beerbongs & bentleys  6trNtQUgC8cgbWcqoMYkOR  0e7ipj03S05BNilyu5bRzt   \n",
            "4    Congratulations (Remix)  3oeiU8nG5eDm5YPpDvK6eS  2YK01AIIWuywG24gsbuizE   \n",
            "..                       ...                     ...                     ...   \n",
            "95      The Sound of Revenge  31dzB4ULKZfOH71tuaBiR8  3kZoay4ANo86ehb6s4RwS9   \n",
            "96                 Angelic 7  0VqPgJ14lyu0JlERRgqgUw  6aHoPULNO7pSL2ZfUY0bU8   \n",
            "97  Neighborhood Watch Vol.1  1nv0qL4lF9KG7tAJRGPOAy  44tqzMVdJrxfAWCDmMsx43   \n",
            "98     No Love Lost (Deluxe)  7AwrgenNcTAJlJF3pKL0Qr  1dIWPXMX4kRHj6Dt2DStUQ   \n",
            "99                     bloom  3yWRq9Dd2UO5xyqxTjLDmp  1PSBzsahR2AKwLJgx8ehBj   \n",
            "\n",
            "    Popularity Release Date  Duration (ms)  Explicit  \\\n",
            "0           83   2018-12-10         239836      True   \n",
            "1           84   2018-06-29         198973      True   \n",
            "2           80   2018-04-27         231267      True   \n",
            "3           83   2018-04-27         218147      True   \n",
            "4           47   2017-06-16         284133      True   \n",
            "..         ...          ...            ...       ...   \n",
            "95          69         None         303053      True   \n",
            "96          68   2020-01-10         139729      True   \n",
            "97           0   2013-01-01         186070      True   \n",
            "98          70   2020-12-04         161684      True   \n",
            "99          71   2017-05-12         239293     False   \n",
            "\n",
            "                                        External URLs  ...  Energy  Key  \\\n",
            "0   https://open.spotify.com/track/285pBltuF7vW8Te...  ...   0.566    6   \n",
            "1   https://open.spotify.com/track/6DCZcSspjsKoFjz...  ...   0.449    7   \n",
            "2   https://open.spotify.com/track/7dt6x5M1jzdTEt8...  ...   0.578   10   \n",
            "3   https://open.spotify.com/track/0e7ipj03S05BNil...  ...   0.520    5   \n",
            "4   https://open.spotify.com/track/2YK01AIIWuywG24...  ...   0.728   10   \n",
            "..                                                ...  ...     ...  ...   \n",
            "95  https://open.spotify.com/track/3kZoay4ANo86ehb...  ...   0.799    8   \n",
            "96  https://open.spotify.com/track/6aHoPULNO7pSL2Z...  ...   0.629    1   \n",
            "97  https://open.spotify.com/track/44tqzMVdJrxfAWC...  ...   0.599    8   \n",
            "98  https://open.spotify.com/track/1dIWPXMX4kRHj6D...  ...   0.767    2   \n",
            "99  https://open.spotify.com/track/1PSBzsahR2AKwLJ...  ...   0.691    2   \n",
            "\n",
            "    Loudness  Mode  Speechiness  Acousticness  Instrumentalness  Liveness  \\\n",
            "0     -7.230     0       0.2000        0.3490          0.000000    0.3400   \n",
            "1     -9.211     1       0.1090        0.0332          0.000083    0.5520   \n",
            "2     -5.804     1       0.0408        0.3310          0.000000    0.1350   \n",
            "3     -6.136     0       0.0713        0.1240          0.000077    0.1310   \n",
            "4     -4.458     0       0.0600        0.1980          0.000000    0.4820   \n",
            "..       ...   ...          ...           ...               ...       ...   \n",
            "95    -4.680     0       0.0993        0.1890          0.000000    0.3000   \n",
            "96    -6.032     0       0.0657        0.0485          0.000000    0.3460   \n",
            "97    -8.783     1       0.2310        0.3370          0.000000    0.6500   \n",
            "98    -5.160     1       0.2870        0.3360          0.000000    0.0809   \n",
            "99    -4.757     1       0.1460        0.2140          0.000000    0.1850   \n",
            "\n",
            "    Valence    Tempo  \n",
            "0     0.218   83.903  \n",
            "1     0.357   77.169  \n",
            "2     0.340  145.070  \n",
            "3     0.129  159.798  \n",
            "4     0.509  123.059  \n",
            "..      ...      ...  \n",
            "95    0.835  143.051  \n",
            "96    0.683  125.935  \n",
            "97    0.741   64.502  \n",
            "98    0.605   93.421  \n",
            "99    0.305  137.853  \n",
            "\n",
            "[100 rows x 21 columns]\n"
          ]
        }
      ]
    },
    {
      "cell_type": "markdown",
      "source": [
        "Checking for NULL values"
      ],
      "metadata": {
        "id": "jHJBd1ikZVRJ"
      }
    },
    {
      "cell_type": "code",
      "source": [
        "print(music_df.isnull().sum())"
      ],
      "metadata": {
        "colab": {
          "base_uri": "https://localhost:8080/"
        },
        "id": "o2fSPbE6Ob53",
        "outputId": "a76a219e-f742-46a1-a4f0-63d2754acc96"
      },
      "execution_count": 12,
      "outputs": [
        {
          "output_type": "stream",
          "name": "stdout",
          "text": [
            "Track Name          0\n",
            "Artists             0\n",
            "Album Name          0\n",
            "Album ID            0\n",
            "Track ID            0\n",
            "Popularity          0\n",
            "Release Date        1\n",
            "Duration (ms)       0\n",
            "Explicit            0\n",
            "External URLs       0\n",
            "Danceability        0\n",
            "Energy              0\n",
            "Key                 0\n",
            "Loudness            0\n",
            "Mode                0\n",
            "Speechiness         0\n",
            "Acousticness        0\n",
            "Instrumentalness    0\n",
            "Liveness            0\n",
            "Valence             0\n",
            "Tempo               0\n",
            "dtype: int64\n"
          ]
        }
      ]
    },
    {
      "cell_type": "markdown",
      "source": [
        "Importing Libraries to be used:"
      ],
      "metadata": {
        "id": "spCEo1G2Zc5E"
      }
    },
    {
      "cell_type": "code",
      "source": [
        "import pandas as pd\n",
        "import numpy as np\n",
        "from sklearn.model_selection import train_test_split\n",
        "from sklearn.preprocessing import MinMaxScaler\n",
        "from datetime import datetime\n",
        "from sklearn.metrics.pairwise import cosine_similarity"
      ],
      "metadata": {
        "id": "HoqFoEaMOm7U"
      },
      "execution_count": 13,
      "outputs": []
    },
    {
      "cell_type": "markdown",
      "source": [
        "Function to give preference to songs that are recently released by giving weights to each song:"
      ],
      "metadata": {
        "id": "8nq11IfdZj2P"
      }
    },
    {
      "cell_type": "code",
      "source": [
        "def calculate_weighted_popularity(release_date):\n",
        "    release_date = datetime.strptime(release_date, '%Y-%m-%d')\n",
        "    time_span = datetime.now() - release_date\n",
        "    weight = 1 / (time_span.days + 1)\n",
        "    return weight"
      ],
      "metadata": {
        "id": "m1AiDNtIPeVJ"
      },
      "execution_count": 14,
      "outputs": []
    },
    {
      "cell_type": "markdown",
      "source": [
        "Normalizating audio features:"
      ],
      "metadata": {
        "id": "deMGSDCqZ1Qj"
      }
    },
    {
      "cell_type": "code",
      "source": [
        "scaler = MinMaxScaler()\n",
        "music_features = music_df[['Danceability', 'Energy', 'Key',\n",
        "                           'Loudness', 'Mode', 'Speechiness', 'Acousticness',\n",
        "                           'Instrumentalness', 'Liveness', 'Valence', 'Tempo']].values\n",
        "music_features_scaled = scaler.fit_transform(music_features)"
      ],
      "metadata": {
        "id": "Ie9AQuBLPyvm"
      },
      "execution_count": 15,
      "outputs": []
    },
    {
      "cell_type": "markdown",
      "source": [
        "Function to generate content based recommendation based on users input song from the provided playlist:"
      ],
      "metadata": {
        "id": "uDz9w-S4Z7s5"
      }
    },
    {
      "cell_type": "code",
      "source": [
        "def content_based_recommendations(input_song_name, num_recommendations=5):\n",
        "    if input_song_name not in music_df['Track Name'].values:\n",
        "        print(f\"'{input_song_name}' not found in the dataset. Please enter a valid song name.\")\n",
        "        return\n",
        "\n",
        "    input_song_index = music_df[music_df['Track Name'] == input_song_name].index[0]\n",
        "\n",
        "    similarity_scores = cosine_similarity([music_features_scaled[input_song_index]], music_features_scaled)\n",
        "\n",
        "    similar_song_indices = similarity_scores.argsort()[0][::-1][1:num_recommendations + 1]\n",
        "\n",
        "    content_based_recommendations = music_df.iloc[similar_song_indices][['Track Name', 'Artists', 'Album Name', 'Release Date', 'Popularity']]\n",
        "\n",
        "    return content_based_recommendations"
      ],
      "metadata": {
        "id": "-OiKMlKoP2uu"
      },
      "execution_count": 16,
      "outputs": []
    },
    {
      "cell_type": "markdown",
      "source": [
        "The function combines the content-based recommendations with the input song’s information (track name, artists, album name, release date, and popularity) and its weighted popularity score. This step creates a DataFrame named combined_df that includes both the content-based recommendations and the input song’s data.\n",
        "The DataFrame is then sorted in descending order based on the weighted popularity score. This step ensures that the most popular and relevant songs appear at the top of the recommendations:"
      ],
      "metadata": {
        "id": "Ao8y9VcZaLrN"
      }
    },
    {
      "cell_type": "code",
      "source": [
        "def hybrid_recommendations(input_song_name, num_recommendations=5, alpha=0.5):\n",
        "  if input_song_name not in music_df['Track Name'].values:\n",
        "   print(f\"'{input_song_name}' not found in the dataset. Please enter a valid song name.\")\n",
        "   return\n",
        "\n",
        "  content_based_rec = content_based_recommendations(input_song_name, num_recommendations)\n",
        "  popularity_score = music_df.loc[music_df['Track Name'] == input_song_name, 'Popularity'].values[0]\n",
        "\n",
        "  weighted_popularity_score = popularity_score * calculate_weighted_popularity(music_df.loc[music_df['Track Name'] == input_song_name, 'Release Date'].values[0])\n",
        "\n",
        "  # Create a new row as a Series\n",
        "  new_row = pd.Series({\n",
        "      'Track Name': input_song_name,\n",
        "      'Artists': music_df.loc[music_df['Track Name'] == input_song_name, 'Artists'].values[0],\n",
        "      'Album Name': music_df.loc[music_df['Track Name'] == input_song_name, 'Album Name'].values[0],\n",
        "      'Release Date': music_df.loc[music_df['Track Name'] == input_song_name, 'Release Date'].values[0],\n",
        "      'Popularity': weighted_popularity_score\n",
        "  })\n",
        "\n",
        "  # Get content-based recommendations\n",
        "  content_based_rec = content_based_recommendations(input_song_name, num_recommendations)\n",
        "\n",
        "  # Combine content-based recommendations with the new row\n",
        "  combined_df = pd.concat([content_based_rec, new_row.to_frame().T], ignore_index=True)  # Convert new_row to DataFrame\n",
        "\n",
        "  # Sort and filter recommendations\n",
        "  combined_df = combined_df.sort_values(by='Popularity', ascending=False)\n",
        "  combined_df = combined_df[combined_df['Track Name'] != input_song_name]\n",
        "\n",
        "  return combined_df\n"
      ],
      "metadata": {
        "id": "RNSJvauIRPsQ"
      },
      "execution_count": 25,
      "outputs": []
    },
    {
      "cell_type": "markdown",
      "source": [
        "Now to test, Input a song from the playlist and get recommendations:"
      ],
      "metadata": {
        "id": "0IwW4I66bEo6"
      }
    },
    {
      "cell_type": "code",
      "source": [
        "input_song_name = \"God's Plan\"\n",
        "recommendations = hybrid_recommendations(input_song_name, num_recommendations=5)\n",
        "print(f\"Hybrid recommended songs for '{input_song_name}':\")\n",
        "print(recommendations)"
      ],
      "metadata": {
        "colab": {
          "base_uri": "https://localhost:8080/"
        },
        "id": "po7wFQ-rRnEa",
        "outputId": "083d3288-6e63-4a37-97fb-ef32eb97e9d2"
      },
      "execution_count": 26,
      "outputs": [
        {
          "output_type": "stream",
          "name": "stdout",
          "text": [
            "Hybrid recommended songs for 'God's Plan':\n",
            "       Track Name                   Artists              Album Name  \\\n",
            "0     Money Trees  Kendrick Lamar, Jay Rock  good kid, m.A.A.d city   \n",
            "4    MIDDLE CHILD                   J. Cole            MIDDLE CHILD   \n",
            "2             Lie                        NF              Perception   \n",
            "3  Tha Crossroads      Bone Thugs-N-Harmony         E. 1999 Eternal   \n",
            "1             7AM              Lil Uzi Vert             Luv Is Rage   \n",
            "\n",
            "  Release Date Popularity  \n",
            "0         2012         81  \n",
            "4   2019-01-23         80  \n",
            "2   2017-10-06         75  \n",
            "3   1995-07-25         69  \n",
            "1   2015-12-18         65  \n"
          ]
        }
      ]
    }
  ]
}